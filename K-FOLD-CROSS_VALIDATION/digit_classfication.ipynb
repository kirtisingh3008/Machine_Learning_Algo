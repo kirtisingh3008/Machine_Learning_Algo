{
  "nbformat": 4,
  "nbformat_minor": 0,
  "metadata": {
    "colab": {
      "name": "digit_classfication.ipynb",
      "provenance": [],
      "collapsed_sections": []
    },
    "kernelspec": {
      "name": "python3",
      "display_name": "Python 3"
    },
    "language_info": {
      "name": "python"
    }
  },
  "cells": [
    {
      "cell_type": "code",
      "execution_count": null,
      "metadata": {
        "id": "ehPd0SOB8VAW"
      },
      "outputs": [],
      "source": [
        "from sklearn.linear_model import LogisticRegression\n",
        "from sklearn.svm import SVC\n",
        "from sklearn.ensemble import RandomForestClassifier\n",
        "import numpy as np\n",
        "from sklearn.datasets import load_digits\n",
        "import matplotlib.pyplot as plt\n",
        "digits =load_digits()"
      ]
    },
    {
      "cell_type": "code",
      "source": [
        "#import kfold library from sklearn\n",
        "from sklearn.model_selection import KFold\n",
        "#creating an object and spliting it into 3 folds\n",
        "obj = KFold(n_splits=3)\n",
        "obj\n"
      ],
      "metadata": {
        "colab": {
          "base_uri": "https://localhost:8080/"
        },
        "id": "Vj-XHGDz9pON",
        "outputId": "53ac7299-a369-446d-a81c-7d8b625d47e4"
      },
      "execution_count": null,
      "outputs": [
        {
          "output_type": "execute_result",
          "data": {
            "text/plain": [
              "KFold(n_splits=3, random_state=None, shuffle=False)"
            ]
          },
          "metadata": {},
          "execution_count": 15
        }
      ]
    },
    {
      "cell_type": "code",
      "source": [
        "for train_index, test_index in obj.split([1,2,3,4,5,6,7,8]):\n",
        "  print(train_index, test_index)\n"
      ],
      "metadata": {
        "colab": {
          "base_uri": "https://localhost:8080/"
        },
        "id": "tvsffFgy-H8D",
        "outputId": "b4839e6c-b81e-4339-aa86-db2a312b50ff"
      },
      "execution_count": null,
      "outputs": [
        {
          "output_type": "stream",
          "name": "stdout",
          "text": [
            "[3 4 5 6 7] [0 1 2]\n",
            "[0 1 2 6 7] [3 4 5]\n",
            "[0 1 2 3 4 5] [6 7]\n"
          ]
        }
      ]
    },
    {
      "cell_type": "code",
      "source": [
        "def cal_score(model, X_train, X_test, Y_train, Y_test):\n",
        "  model.fit(X_train, Y_train)\n",
        "  return model.score(X_test, Y_test)\n"
      ],
      "metadata": {
        "id": "umZnOB_N_Ab9"
      },
      "execution_count": null,
      "outputs": []
    },
    {
      "cell_type": "code",
      "source": [
        "# startifiedKFold is better because it divides the fold into uniform fold\n",
        "from sklearn.model_selection import StratifiedKFold\n",
        "folds = StratifiedKFold(n_splits=3)\n",
        "\n",
        "scores_lr =[]\n",
        "scores_svm = []\n",
        "scores_dt = []\n",
        "\n",
        "for train_index, test_index in folds.split(digits.data,digits.target):\n",
        "  X_train , X_test,  Y_train , Y_test = digits.data[train_index],digits.data[test_index],\\\n",
        "                                        digits.target[train_index],digits.target[test_index]\n",
        "  scores_lr.append(cal_score(LogisticRegression(),X_train,X_test,Y_train,Y_test))\n",
        "  scores_svm.append(cal_score(SVC(),X_train,X_test,Y_train,Y_test))\n",
        "  scores_dt.append(cal_score(RandomForestClassifier(n_estimators=30),X_train,X_test,Y_train,Y_test))\n",
        "\n",
        "\n"
      ],
      "metadata": {
        "colab": {
          "base_uri": "https://localhost:8080/"
        },
        "id": "vVqW9nPW_3ib",
        "outputId": "def909cc-5104-4849-8dd0-73892d7d1cd3"
      },
      "execution_count": null,
      "outputs": [
        {
          "output_type": "stream",
          "name": "stderr",
          "text": [
            "/usr/local/lib/python3.7/dist-packages/sklearn/linear_model/_logistic.py:818: ConvergenceWarning: lbfgs failed to converge (status=1):\n",
            "STOP: TOTAL NO. of ITERATIONS REACHED LIMIT.\n",
            "\n",
            "Increase the number of iterations (max_iter) or scale the data as shown in:\n",
            "    https://scikit-learn.org/stable/modules/preprocessing.html\n",
            "Please also refer to the documentation for alternative solver options:\n",
            "    https://scikit-learn.org/stable/modules/linear_model.html#logistic-regression\n",
            "  extra_warning_msg=_LOGISTIC_SOLVER_CONVERGENCE_MSG,\n",
            "/usr/local/lib/python3.7/dist-packages/sklearn/linear_model/_logistic.py:818: ConvergenceWarning: lbfgs failed to converge (status=1):\n",
            "STOP: TOTAL NO. of ITERATIONS REACHED LIMIT.\n",
            "\n",
            "Increase the number of iterations (max_iter) or scale the data as shown in:\n",
            "    https://scikit-learn.org/stable/modules/preprocessing.html\n",
            "Please also refer to the documentation for alternative solver options:\n",
            "    https://scikit-learn.org/stable/modules/linear_model.html#logistic-regression\n",
            "  extra_warning_msg=_LOGISTIC_SOLVER_CONVERGENCE_MSG,\n",
            "/usr/local/lib/python3.7/dist-packages/sklearn/linear_model/_logistic.py:818: ConvergenceWarning: lbfgs failed to converge (status=1):\n",
            "STOP: TOTAL NO. of ITERATIONS REACHED LIMIT.\n",
            "\n",
            "Increase the number of iterations (max_iter) or scale the data as shown in:\n",
            "    https://scikit-learn.org/stable/modules/preprocessing.html\n",
            "Please also refer to the documentation for alternative solver options:\n",
            "    https://scikit-learn.org/stable/modules/linear_model.html#logistic-regression\n",
            "  extra_warning_msg=_LOGISTIC_SOLVER_CONVERGENCE_MSG,\n"
          ]
        }
      ]
    },
    {
      "cell_type": "code",
      "source": [
        "scores_lr"
      ],
      "metadata": {
        "colab": {
          "base_uri": "https://localhost:8080/"
        },
        "id": "UCXT_OTkEj1i",
        "outputId": "701ce152-bc07-46ea-ac8d-45a93d847180"
      },
      "execution_count": null,
      "outputs": [
        {
          "output_type": "execute_result",
          "data": {
            "text/plain": [
              "[0.9215358931552587, 0.9415692821368948, 0.9165275459098498]"
            ]
          },
          "metadata": {},
          "execution_count": 20
        }
      ]
    },
    {
      "cell_type": "code",
      "source": [
        "scores_svm"
      ],
      "metadata": {
        "colab": {
          "base_uri": "https://localhost:8080/"
        },
        "id": "5_cvNfYREn2d",
        "outputId": "cd7149d8-edf2-4262-91d9-b050b5e549eb"
      },
      "execution_count": null,
      "outputs": [
        {
          "output_type": "execute_result",
          "data": {
            "text/plain": [
              "[0.9649415692821369, 0.9799666110183639, 0.9649415692821369]"
            ]
          },
          "metadata": {},
          "execution_count": 21
        }
      ]
    },
    {
      "cell_type": "code",
      "source": [
        "scores_dt"
      ],
      "metadata": {
        "colab": {
          "base_uri": "https://localhost:8080/"
        },
        "id": "MhiO8QEHEszL",
        "outputId": "93aac722-eb20-48cf-92c9-d5e81ccfea65"
      },
      "execution_count": null,
      "outputs": [
        {
          "output_type": "execute_result",
          "data": {
            "text/plain": [
              "[0.9248747913188647, 0.9382303839732888, 0.9115191986644408]"
            ]
          },
          "metadata": {},
          "execution_count": 23
        }
      ]
    }
  ]
}